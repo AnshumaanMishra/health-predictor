{
 "cells": [
  {
   "cell_type": "markdown",
   "id": "65cbc4c8",
   "metadata": {},
   "source": [
    "# Health Detector: Using scikit-learn"
   ]
  },
  {
   "cell_type": "markdown",
   "id": "ecb2ad0f",
   "metadata": {},
   "source": [
    "### 1. Imports"
   ]
  },
  {
   "cell_type": "code",
   "execution_count": 185,
   "id": "310832db",
   "metadata": {},
   "outputs": [],
   "source": [
    "import pandas as pd\n",
    "import numpy as np\n",
    "import matplotlib.pyplot as plt\n",
    "\n",
    "from sklearn.linear_model import LinearRegression, Ridge, Lasso\n",
    "from sklearn.model_selection import train_test_split, cross_val_score\n",
    "from sklearn.metrics import mean_squared_error, r2_score, mean_absolute_error\n",
    "from sklearn.preprocessing import StandardScaler"
   ]
  },
  {
   "cell_type": "code",
   "execution_count": 186,
   "id": "8b731aaf",
   "metadata": {},
   "outputs": [],
   "source": [
    "def prettyPrint(array):\n",
    "    print(f\"Model: \\t\\t\\t\\t{array[0]}\\nR2 Score: \\t\\t\\t{array[1]}\\nCV R2 Score(Full Data): \\t{array[2]}\\nCV R2 Score(CV Data): \\t\\t{array[3]}\")"
   ]
  },
  {
   "cell_type": "markdown",
   "id": "b18edbb1",
   "metadata": {},
   "source": [
    "# 1. Linear Regression"
   ]
  },
  {
   "cell_type": "code",
   "execution_count": 187,
   "id": "619d9e78",
   "metadata": {},
   "outputs": [],
   "source": [
    "main_data = pd.read_csv(\"./data/activity.csv\")"
   ]
  },
  {
   "cell_type": "code",
   "execution_count": 188,
   "id": "1a275782",
   "metadata": {},
   "outputs": [
    {
     "data": {
      "text/html": [
       "<div>\n",
       "<style scoped>\n",
       "    .dataframe tbody tr th:only-of-type {\n",
       "        vertical-align: middle;\n",
       "    }\n",
       "\n",
       "    .dataframe tbody tr th {\n",
       "        vertical-align: top;\n",
       "    }\n",
       "\n",
       "    .dataframe thead th {\n",
       "        text-align: right;\n",
       "    }\n",
       "</style>\n",
       "<table border=\"1\" class=\"dataframe\">\n",
       "  <thead>\n",
       "    <tr style=\"text-align: right;\">\n",
       "      <th></th>\n",
       "      <th>Id</th>\n",
       "      <th>ActivityDate</th>\n",
       "      <th>TotalSteps</th>\n",
       "      <th>TotalDistance</th>\n",
       "      <th>TrackerDistance</th>\n",
       "      <th>LoggedActivitiesDistance</th>\n",
       "      <th>VeryActiveDistance</th>\n",
       "      <th>ModeratelyActiveDistance</th>\n",
       "      <th>LightActiveDistance</th>\n",
       "      <th>SedentaryActiveDistance</th>\n",
       "      <th>VeryActiveMinutes</th>\n",
       "      <th>FairlyActiveMinutes</th>\n",
       "      <th>LightlyActiveMinutes</th>\n",
       "      <th>SedentaryMinutes</th>\n",
       "      <th>Calories</th>\n",
       "    </tr>\n",
       "  </thead>\n",
       "  <tbody>\n",
       "    <tr>\n",
       "      <th>0</th>\n",
       "      <td>1503960366</td>\n",
       "      <td>3/25/2016</td>\n",
       "      <td>11004</td>\n",
       "      <td>7.11</td>\n",
       "      <td>7.11</td>\n",
       "      <td>0.0</td>\n",
       "      <td>2.57</td>\n",
       "      <td>0.46</td>\n",
       "      <td>4.07</td>\n",
       "      <td>0.0</td>\n",
       "      <td>33</td>\n",
       "      <td>12</td>\n",
       "      <td>205</td>\n",
       "      <td>804</td>\n",
       "      <td>1819</td>\n",
       "    </tr>\n",
       "    <tr>\n",
       "      <th>1</th>\n",
       "      <td>1503960366</td>\n",
       "      <td>3/26/2016</td>\n",
       "      <td>17609</td>\n",
       "      <td>11.55</td>\n",
       "      <td>11.55</td>\n",
       "      <td>0.0</td>\n",
       "      <td>6.92</td>\n",
       "      <td>0.73</td>\n",
       "      <td>3.91</td>\n",
       "      <td>0.0</td>\n",
       "      <td>89</td>\n",
       "      <td>17</td>\n",
       "      <td>274</td>\n",
       "      <td>588</td>\n",
       "      <td>2154</td>\n",
       "    </tr>\n",
       "    <tr>\n",
       "      <th>2</th>\n",
       "      <td>1503960366</td>\n",
       "      <td>3/27/2016</td>\n",
       "      <td>12736</td>\n",
       "      <td>8.53</td>\n",
       "      <td>8.53</td>\n",
       "      <td>0.0</td>\n",
       "      <td>4.66</td>\n",
       "      <td>0.16</td>\n",
       "      <td>3.71</td>\n",
       "      <td>0.0</td>\n",
       "      <td>56</td>\n",
       "      <td>5</td>\n",
       "      <td>268</td>\n",
       "      <td>605</td>\n",
       "      <td>1944</td>\n",
       "    </tr>\n",
       "    <tr>\n",
       "      <th>3</th>\n",
       "      <td>1503960366</td>\n",
       "      <td>3/28/2016</td>\n",
       "      <td>13231</td>\n",
       "      <td>8.93</td>\n",
       "      <td>8.93</td>\n",
       "      <td>0.0</td>\n",
       "      <td>3.19</td>\n",
       "      <td>0.79</td>\n",
       "      <td>4.95</td>\n",
       "      <td>0.0</td>\n",
       "      <td>39</td>\n",
       "      <td>20</td>\n",
       "      <td>224</td>\n",
       "      <td>1080</td>\n",
       "      <td>1932</td>\n",
       "    </tr>\n",
       "    <tr>\n",
       "      <th>4</th>\n",
       "      <td>1503960366</td>\n",
       "      <td>3/29/2016</td>\n",
       "      <td>12041</td>\n",
       "      <td>7.85</td>\n",
       "      <td>7.85</td>\n",
       "      <td>0.0</td>\n",
       "      <td>2.16</td>\n",
       "      <td>1.09</td>\n",
       "      <td>4.61</td>\n",
       "      <td>0.0</td>\n",
       "      <td>28</td>\n",
       "      <td>28</td>\n",
       "      <td>243</td>\n",
       "      <td>763</td>\n",
       "      <td>1886</td>\n",
       "    </tr>\n",
       "  </tbody>\n",
       "</table>\n",
       "</div>"
      ],
      "text/plain": [
       "           Id ActivityDate  TotalSteps  TotalDistance  TrackerDistance  \\\n",
       "0  1503960366    3/25/2016       11004           7.11             7.11   \n",
       "1  1503960366    3/26/2016       17609          11.55            11.55   \n",
       "2  1503960366    3/27/2016       12736           8.53             8.53   \n",
       "3  1503960366    3/28/2016       13231           8.93             8.93   \n",
       "4  1503960366    3/29/2016       12041           7.85             7.85   \n",
       "\n",
       "   LoggedActivitiesDistance  VeryActiveDistance  ModeratelyActiveDistance  \\\n",
       "0                       0.0                2.57                      0.46   \n",
       "1                       0.0                6.92                      0.73   \n",
       "2                       0.0                4.66                      0.16   \n",
       "3                       0.0                3.19                      0.79   \n",
       "4                       0.0                2.16                      1.09   \n",
       "\n",
       "   LightActiveDistance  SedentaryActiveDistance  VeryActiveMinutes  \\\n",
       "0                 4.07                      0.0                 33   \n",
       "1                 3.91                      0.0                 89   \n",
       "2                 3.71                      0.0                 56   \n",
       "3                 4.95                      0.0                 39   \n",
       "4                 4.61                      0.0                 28   \n",
       "\n",
       "   FairlyActiveMinutes  LightlyActiveMinutes  SedentaryMinutes  Calories  \n",
       "0                   12                   205               804      1819  \n",
       "1                   17                   274               588      2154  \n",
       "2                    5                   268               605      1944  \n",
       "3                   20                   224              1080      1932  \n",
       "4                   28                   243               763      1886  "
      ]
     },
     "execution_count": 188,
     "metadata": {},
     "output_type": "execute_result"
    }
   ],
   "source": [
    "main_data.head()"
   ]
  },
  {
   "cell_type": "code",
   "execution_count": 189,
   "id": "a62e9833",
   "metadata": {},
   "outputs": [
    {
     "name": "stdout",
     "output_type": "stream",
     "text": [
      "Id                            int64\n",
      "ActivityDate                 object\n",
      "TotalSteps                    int64\n",
      "TotalDistance               float64\n",
      "TrackerDistance             float64\n",
      "LoggedActivitiesDistance    float64\n",
      "VeryActiveDistance          float64\n",
      "ModeratelyActiveDistance    float64\n",
      "LightActiveDistance         float64\n",
      "SedentaryActiveDistance     float64\n",
      "VeryActiveMinutes             int64\n",
      "FairlyActiveMinutes           int64\n",
      "LightlyActiveMinutes          int64\n",
      "SedentaryMinutes              int64\n",
      "Calories                      int64\n",
      "dtype: object\n"
     ]
    }
   ],
   "source": [
    "print(main_data.dtypes)"
   ]
  },
  {
   "cell_type": "markdown",
   "id": "45c21eea",
   "metadata": {},
   "source": [
    "#### Observations\n",
    "1. We observe that the `ActivityDate` column has no effect on the final result, since the weather conditions are not given. In real life, the data may have been important if the weather conditions were given. Hence we are dropping the column from the data. Same for `Id`"
   ]
  },
  {
   "cell_type": "code",
   "execution_count": 190,
   "id": "4b899afc",
   "metadata": {},
   "outputs": [
    {
     "data": {
      "text/html": [
       "<div>\n",
       "<style scoped>\n",
       "    .dataframe tbody tr th:only-of-type {\n",
       "        vertical-align: middle;\n",
       "    }\n",
       "\n",
       "    .dataframe tbody tr th {\n",
       "        vertical-align: top;\n",
       "    }\n",
       "\n",
       "    .dataframe thead th {\n",
       "        text-align: right;\n",
       "    }\n",
       "</style>\n",
       "<table border=\"1\" class=\"dataframe\">\n",
       "  <thead>\n",
       "    <tr style=\"text-align: right;\">\n",
       "      <th></th>\n",
       "      <th>TotalSteps</th>\n",
       "      <th>TotalDistance</th>\n",
       "      <th>TrackerDistance</th>\n",
       "      <th>LoggedActivitiesDistance</th>\n",
       "      <th>VeryActiveDistance</th>\n",
       "      <th>ModeratelyActiveDistance</th>\n",
       "      <th>LightActiveDistance</th>\n",
       "      <th>SedentaryActiveDistance</th>\n",
       "      <th>VeryActiveMinutes</th>\n",
       "      <th>FairlyActiveMinutes</th>\n",
       "      <th>LightlyActiveMinutes</th>\n",
       "      <th>SedentaryMinutes</th>\n",
       "      <th>Calories</th>\n",
       "    </tr>\n",
       "  </thead>\n",
       "  <tbody>\n",
       "    <tr>\n",
       "      <th>0</th>\n",
       "      <td>11004</td>\n",
       "      <td>7.11</td>\n",
       "      <td>7.11</td>\n",
       "      <td>0.0</td>\n",
       "      <td>2.57</td>\n",
       "      <td>0.46</td>\n",
       "      <td>4.07</td>\n",
       "      <td>0.0</td>\n",
       "      <td>33</td>\n",
       "      <td>12</td>\n",
       "      <td>205</td>\n",
       "      <td>804</td>\n",
       "      <td>1819</td>\n",
       "    </tr>\n",
       "    <tr>\n",
       "      <th>1</th>\n",
       "      <td>17609</td>\n",
       "      <td>11.55</td>\n",
       "      <td>11.55</td>\n",
       "      <td>0.0</td>\n",
       "      <td>6.92</td>\n",
       "      <td>0.73</td>\n",
       "      <td>3.91</td>\n",
       "      <td>0.0</td>\n",
       "      <td>89</td>\n",
       "      <td>17</td>\n",
       "      <td>274</td>\n",
       "      <td>588</td>\n",
       "      <td>2154</td>\n",
       "    </tr>\n",
       "    <tr>\n",
       "      <th>2</th>\n",
       "      <td>12736</td>\n",
       "      <td>8.53</td>\n",
       "      <td>8.53</td>\n",
       "      <td>0.0</td>\n",
       "      <td>4.66</td>\n",
       "      <td>0.16</td>\n",
       "      <td>3.71</td>\n",
       "      <td>0.0</td>\n",
       "      <td>56</td>\n",
       "      <td>5</td>\n",
       "      <td>268</td>\n",
       "      <td>605</td>\n",
       "      <td>1944</td>\n",
       "    </tr>\n",
       "    <tr>\n",
       "      <th>3</th>\n",
       "      <td>13231</td>\n",
       "      <td>8.93</td>\n",
       "      <td>8.93</td>\n",
       "      <td>0.0</td>\n",
       "      <td>3.19</td>\n",
       "      <td>0.79</td>\n",
       "      <td>4.95</td>\n",
       "      <td>0.0</td>\n",
       "      <td>39</td>\n",
       "      <td>20</td>\n",
       "      <td>224</td>\n",
       "      <td>1080</td>\n",
       "      <td>1932</td>\n",
       "    </tr>\n",
       "    <tr>\n",
       "      <th>4</th>\n",
       "      <td>12041</td>\n",
       "      <td>7.85</td>\n",
       "      <td>7.85</td>\n",
       "      <td>0.0</td>\n",
       "      <td>2.16</td>\n",
       "      <td>1.09</td>\n",
       "      <td>4.61</td>\n",
       "      <td>0.0</td>\n",
       "      <td>28</td>\n",
       "      <td>28</td>\n",
       "      <td>243</td>\n",
       "      <td>763</td>\n",
       "      <td>1886</td>\n",
       "    </tr>\n",
       "  </tbody>\n",
       "</table>\n",
       "</div>"
      ],
      "text/plain": [
       "   TotalSteps  TotalDistance  TrackerDistance  LoggedActivitiesDistance  \\\n",
       "0       11004           7.11             7.11                       0.0   \n",
       "1       17609          11.55            11.55                       0.0   \n",
       "2       12736           8.53             8.53                       0.0   \n",
       "3       13231           8.93             8.93                       0.0   \n",
       "4       12041           7.85             7.85                       0.0   \n",
       "\n",
       "   VeryActiveDistance  ModeratelyActiveDistance  LightActiveDistance  \\\n",
       "0                2.57                      0.46                 4.07   \n",
       "1                6.92                      0.73                 3.91   \n",
       "2                4.66                      0.16                 3.71   \n",
       "3                3.19                      0.79                 4.95   \n",
       "4                2.16                      1.09                 4.61   \n",
       "\n",
       "   SedentaryActiveDistance  VeryActiveMinutes  FairlyActiveMinutes  \\\n",
       "0                      0.0                 33                   12   \n",
       "1                      0.0                 89                   17   \n",
       "2                      0.0                 56                    5   \n",
       "3                      0.0                 39                   20   \n",
       "4                      0.0                 28                   28   \n",
       "\n",
       "   LightlyActiveMinutes  SedentaryMinutes  Calories  \n",
       "0                   205               804      1819  \n",
       "1                   274               588      2154  \n",
       "2                   268               605      1944  \n",
       "3                   224              1080      1932  \n",
       "4                   243               763      1886  "
      ]
     },
     "execution_count": 190,
     "metadata": {},
     "output_type": "execute_result"
    }
   ],
   "source": [
    "data = main_data.drop(columns=[\"Id\", \"ActivityDate\"])\n",
    "data.head()"
   ]
  },
  {
   "cell_type": "code",
   "execution_count": 191,
   "id": "0f5499cd",
   "metadata": {},
   "outputs": [],
   "source": [
    "randomState = 42\n",
    "\n",
    "def splitData(randomState, data):\n",
    "\n",
    "    train_cv_data, test_data = train_test_split(data, test_size=0.2, random_state=randomState)\n",
    "    train_data, cv_data = train_test_split(train_cv_data, test_size=0.25, random_state=randomState)  \n",
    "\n",
    "    print(f\"Train shape: {train_data.shape}\")\n",
    "    print(f\"CV shape: {cv_data.shape}\")\n",
    "    print(f\"Test shape: {test_data.shape}\")\n",
    "\n",
    "    X_raw = data.drop(columns=[\"Calories\"])\n",
    "    y_raw = data[\"Calories\"]\n",
    "\n",
    "    X_train = train_data.drop(columns=[\"Calories\"])\n",
    "    y_train = train_data[\"Calories\"]\n",
    "\n",
    "    X_cv = cv_data.drop(columns=[\"Calories\"])\n",
    "    y_cv = cv_data[\"Calories\"]\n",
    "\n",
    "    X_test = test_data.drop(columns=[\"Calories\"])\n",
    "    y_test = test_data[\"Calories\"]\n",
    "    return [X_raw, y_raw, X_train, y_train, X_cv, y_cv, X_test, y_test]\n",
    "\n"
   ]
  },
  {
   "cell_type": "markdown",
   "id": "86fb0546",
   "metadata": {},
   "source": [
    "## No-Optimisation Result"
   ]
  },
  {
   "cell_type": "code",
   "execution_count": 213,
   "id": "2069b43a",
   "metadata": {},
   "outputs": [
    {
     "name": "stdout",
     "output_type": "stream",
     "text": [
      "Train shape: (273, 13)\n",
      "CV shape: (92, 13)\n",
      "Test shape: (92, 13)\n"
     ]
    }
   ],
   "source": [
    "# Non-Scaled Data\n",
    "unscaled_data_array = splitData(randomState=randomState, data=data)"
   ]
  },
  {
   "cell_type": "code",
   "execution_count": 193,
   "id": "8d34f4b0",
   "metadata": {},
   "outputs": [],
   "source": [
    "def unregLR(X_raw, y_raw, X_train, y_train, X_cv, y_cv, X_test, y_test):\n",
    "    linear_regression = LinearRegression()\n",
    "    linear_regression.fit(X_train, y_train)\n",
    "\n",
    "    y_pred = linear_regression.predict(X_test)\n",
    "    # print(\"Linear Regression\")\n",
    "    # print(\"R² Score:\", r2_score(y_test, y_pred))\n",
    "    # print(\"MSE:\", mean_squared_error(y_test, y_pred))\n",
    "\n",
    "    cv_scores_full = cross_val_score(linear_regression, X_raw, y_raw, cv=5, scoring='r2')\n",
    "    cv_scores_cv = cross_val_score(linear_regression, X_cv, y_cv, cv=5, scoring='r2')\n",
    "    # print(\"Cross`-validated R²:\", cv_scores.mean())\n",
    "    return [linear_regression, r2_score(y_test, y_pred), cv_scores_full.mean(), cv_scores_cv.mean()]"
   ]
  },
  {
   "cell_type": "code",
   "execution_count": 214,
   "id": "88788a1a",
   "metadata": {},
   "outputs": [
    {
     "name": "stdout",
     "output_type": "stream",
     "text": [
      "Model: \t\t\t\tLinearRegression()\n",
      "R2 Score: \t\t\t0.7433511680465354\n",
      "CV R2 Score(Full Data): \t-0.6600870916930928\n",
      "CV R2 Score(CV Data): \t\t0.49721843755187195\n"
     ]
    }
   ],
   "source": [
    "prettyPrint(unregLR(*unscaled_data_array))"
   ]
  },
  {
   "cell_type": "markdown",
   "id": "29dfcdcb",
   "metadata": {},
   "source": [
    "## Obeservations and Conclusions on the \"Raw\" output:\n",
    "1. The R2 score we obtained is 0.77. While this score is not too bad, some tuning could possibly improve it.\n",
    "2. The Cross validation R2 score, however tells an entirely different story. The negative score implies that the model does worse than just outputting the mean value for each value.\n",
    "3. We must introduce several factors to improve performance."
   ]
  },
  {
   "cell_type": "code",
   "execution_count": 215,
   "id": "d2d61713",
   "metadata": {},
   "outputs": [
    {
     "name": "stdout",
     "output_type": "stream",
     "text": [
      "Train shape: (273, 13)\n",
      "CV shape: (92, 13)\n",
      "Test shape: (92, 13)\n"
     ]
    }
   ],
   "source": [
    "scaler = StandardScaler()\n",
    "scaled_data = scaler.fit_transform(data)\n",
    "scaled_data = pd.DataFrame(scaled_data, columns=data.columns, index=data.index)\n",
    "# print(scaled_data.head())\n",
    "\n",
    "scaled_data_array = splitData(randomState=randomState, data=scaled_data)"
   ]
  },
  {
   "cell_type": "code",
   "execution_count": 216,
   "id": "e1ea5663",
   "metadata": {},
   "outputs": [
    {
     "name": "stdout",
     "output_type": "stream",
     "text": [
      "Model: \t\t\t\tLinearRegression()\n",
      "R2 Score: \t\t\t0.7433511680465386\n",
      "CV R2 Score(Full Data): \t-0.6600870916929907\n",
      "CV R2 Score(CV Data): \t\t0.49721843755188894\n"
     ]
    }
   ],
   "source": [
    "prettyPrint(unregLR(*scaled_data_array))"
   ]
  },
  {
   "cell_type": "markdown",
   "id": "e6ad8ee8",
   "metadata": {},
   "source": [
    "As we can see te scaling did not affect the Linear regression at all due to absence of regularisation"
   ]
  },
  {
   "cell_type": "markdown",
   "id": "8838bfb8",
   "metadata": {},
   "source": [
    "# Ridge"
   ]
  },
  {
   "cell_type": "code",
   "execution_count": 208,
   "id": "09d951ba",
   "metadata": {},
   "outputs": [],
   "source": [
    "def ridgeRegression(alpha: float, X_raw, y_raw, X_train, y_train, X_cv, y_cv, X_test, y_test):\n",
    "    ridge = Ridge(alpha=alpha)\n",
    "    ridge.fit(X_train, y_train)\n",
    "    y_pred = ridge.predict(X_test)\n",
    "\n",
    "    r2 = r2_score(y_test, y_pred)\n",
    "    # print(\"Linear Regression regularised with Ridge Regularisation\")\n",
    "    # print(\"R² Score:\", r2)\n",
    "    # print(\"MSE:\", mean_squared_error(y_test, y_pred))\n",
    "\n",
    "    cv_scores_full = cross_val_score(ridge, X_raw, y_raw, cv=5, scoring='r2')\n",
    "    cv_scores_cv = cross_val_score(ridge, X_cv, y_cv, cv=5, scoring='r2')\n",
    "    mean_cv_r2_full = cv_scores_full.mean()\n",
    "    mean_cv_r2_cv = cv_scores_cv.mean()\n",
    "    # print(\"Cross-validated R²:\", mean_cv_r2)\n",
    "\n",
    "    return [ridge, r2, mean_cv_r2_full, mean_cv_r2_cv]\n"
   ]
  },
  {
   "cell_type": "code",
   "execution_count": 218,
   "id": "49301a3c",
   "metadata": {},
   "outputs": [
    {
     "name": "stdout",
     "output_type": "stream",
     "text": [
      "Model: \t\t\t\tRidge(alpha=1)\n",
      "R2 Score: \t\t\t0.738512930543872\n",
      "CV R2 Score(Full Data): \t0.19901365271105126\n",
      "CV R2 Score(CV Data): \t\t0.11160468239910819\n"
     ]
    }
   ],
   "source": [
    "prettyPrint(ridgeRegression(1, *scaled_data_array))"
   ]
  },
  {
   "cell_type": "code",
   "execution_count": 219,
   "id": "c48c0271",
   "metadata": {},
   "outputs": [
    {
     "name": "stdout",
     "output_type": "stream",
     "text": [
      "Model: \t\t\t\tRidge(alpha=1)\n",
      "R2 Score: \t\t\t0.7472947561719497\n",
      "CV R2 Score(Full Data): \t0.4116566608216374\n",
      "CV R2 Score(CV Data): \t\t0.5045994482044904\n"
     ]
    }
   ],
   "source": [
    "prettyPrint(ridgeRegression(1, *unscaled_data_array))"
   ]
  },
  {
   "cell_type": "code",
   "execution_count": 220,
   "id": "49822b86",
   "metadata": {},
   "outputs": [],
   "source": [
    "ridge, _, _, _ = ridgeRegression(0.027, *scaled_data_array)\n"
   ]
  },
  {
   "cell_type": "markdown",
   "id": "70f38d56",
   "metadata": {},
   "source": [
    "# Lasso"
   ]
  },
  {
   "cell_type": "code",
   "execution_count": 221,
   "id": "4b724e9a",
   "metadata": {},
   "outputs": [],
   "source": [
    "def lassoRegression(alpha: float, X_raw, y_raw, X_train, y_train, X_cv, y_cv, X_test, y_test):\n",
    "    lasso = Ridge(alpha=alpha)\n",
    "    lasso.fit(X_train, y_train)\n",
    "    y_pred = lasso.predict(X_test)\n",
    "\n",
    "    r2 = r2_score(y_test, y_pred)\n",
    "    # print(\"Linear Regression regularised with Ridge Regularisation\")\n",
    "    # print(\"R² Score:\", r2)\n",
    "    # print(\"MSE:\", mean_squared_error(y_test, y_pred))\n",
    "\n",
    "    cv_scores_full = cross_val_score(lasso, X_raw, y_raw, cv=5, scoring='r2')\n",
    "    cv_scores_cv = cross_val_score(lasso, X_cv, y_cv, cv=5, scoring='r2')\n",
    "    mean_cv_r2_full = cv_scores_full.mean()\n",
    "    mean_cv_r2_cv = cv_scores_cv.mean()\n",
    "    # print(\"Cross-validated R²:\", mean_cv_r2)\n",
    "\n",
    "    return [lasso, r2, mean_cv_r2_full, mean_cv_r2_cv]"
   ]
  },
  {
   "cell_type": "code",
   "execution_count": 222,
   "id": "c0be790e",
   "metadata": {},
   "outputs": [
    {
     "name": "stdout",
     "output_type": "stream",
     "text": [
      "Model: \t\t\t\tRidge(alpha=1)\n",
      "R2 Score: \t\t\t0.738512930543872\n",
      "CV R2 Score(Full Data): \t0.19901365271105126\n",
      "CV R2 Score(CV Data): \t\t0.11160468239910819\n"
     ]
    }
   ],
   "source": [
    "prettyPrint(lassoRegression(1, *scaled_data_array))"
   ]
  },
  {
   "cell_type": "markdown",
   "id": "c8156570",
   "metadata": {},
   "source": [
    "First, tune Ridge lambda"
   ]
  },
  {
   "cell_type": "code",
   "execution_count": 224,
   "id": "2f6da639",
   "metadata": {},
   "outputs": [
    {
     "data": {
      "image/png": "[encoded data removed]",
      "text/plain": [
       "<Figure size 640x480 with 1 Axes>"
      ]
     },
     "metadata": {},
     "output_type": "display_data"
    },
    {
     "name": "stdout",
     "output_type": "stream",
     "text": [
      "0.099 0.7487046357618605 0.3567819433947944\n",
      "0.027 0.7453447716524794 0.5037055325847376\n"
     ]
    }
   ],
   "source": [
    "alphas = []\n",
    "r2_scores = []\n",
    "cv_r2_scores = []\n",
    "maxr2i = 0\n",
    "maxcvr2i = 0\n",
    "for i in range(1, 100):\n",
    "    alpha = i / 1000\n",
    "    alphas.append(alpha)\n",
    "    _, R2, cvR2, _  = ridgeRegression(alpha, *scaled_data_array)\n",
    "    r2_scores.append(R2)\n",
    "    cv_r2_scores.append(cvR2)\n",
    "    if(R2 > r2_scores[maxr2i]):\n",
    "        maxr2i = i - 1\n",
    "    if(cvR2 > cv_r2_scores[maxcvr2i]):\n",
    "        maxcvr2i = i - 1\n",
    "\n",
    "plt.plot(alphas, r2_scores, label=\"Regular R2\")\n",
    "plt.plot(alphas, cv_r2_scores, label=\"CV R2\")\n",
    "plt.legend()\n",
    "plt.xlabel(\"Alpha\")\n",
    "plt.ylabel(\"R2 Score\")\n",
    "plt.show()\n",
    "print(alphas[maxr2i], r2_scores[maxr2i], cv_r2_scores[maxr2i])\n",
    "print(alphas[maxcvr2i], r2_scores[maxcvr2i], cv_r2_scores[maxcvr2i])"
   ]
  },
  {
   "cell_type": "code",
   "execution_count": 203,
   "id": "256f7257",
   "metadata": {},
   "outputs": [
    {
     "name": "stderr",
     "output_type": "stream",
     "text": [
      "/home/anshumaan/Development/college/health-predictor/health-predictor-venv/lib/python3.10/site-packages/sklearn/linear_model/_coordinate_descent.py:695: ConvergenceWarning: Objective did not converge. You might want to increase the number of iterations, check the scale of the features or consider increasing regularisation. Duality gap: 6.974e-02, tolerance: 2.773e-02\n",
      "  model = cd_fast.enet_coordinate_descent(\n",
      "/home/anshumaan/Development/college/health-predictor/health-predictor-venv/lib/python3.10/site-packages/sklearn/linear_model/_coordinate_descent.py:695: ConvergenceWarning: Objective did not converge. You might want to increase the number of iterations, check the scale of the features or consider increasing regularisation. Duality gap: 3.420e-01, tolerance: 3.604e-02\n",
      "  model = cd_fast.enet_coordinate_descent(\n",
      "/home/anshumaan/Development/college/health-predictor/health-predictor-venv/lib/python3.10/site-packages/sklearn/linear_model/_coordinate_descent.py:695: ConvergenceWarning: Objective did not converge. You might want to increase the number of iterations, check the scale of the features or consider increasing regularisation. Duality gap: 1.334e-01, tolerance: 3.495e-02\n",
      "  model = cd_fast.enet_coordinate_descent(\n",
      "/home/anshumaan/Development/college/health-predictor/health-predictor-venv/lib/python3.10/site-packages/sklearn/linear_model/_coordinate_descent.py:695: ConvergenceWarning: Objective did not converge. You might want to increase the number of iterations, check the scale of the features or consider increasing regularisation. Duality gap: 1.276e-01, tolerance: 3.495e-02\n",
      "  model = cd_fast.enet_coordinate_descent(\n",
      "/home/anshumaan/Development/college/health-predictor/health-predictor-venv/lib/python3.10/site-packages/sklearn/linear_model/_coordinate_descent.py:695: ConvergenceWarning: Objective did not converge. You might want to increase the number of iterations, check the scale of the features or consider increasing regularisation. Duality gap: 8.436e-02, tolerance: 3.495e-02\n",
      "  model = cd_fast.enet_coordinate_descent(\n",
      "/home/anshumaan/Development/college/health-predictor/health-predictor-venv/lib/python3.10/site-packages/sklearn/linear_model/_coordinate_descent.py:695: ConvergenceWarning: Objective did not converge. You might want to increase the number of iterations, check the scale of the features or consider increasing regularisation. Duality gap: 1.451e-01, tolerance: 3.495e-02\n",
      "  model = cd_fast.enet_coordinate_descent(\n",
      "/home/anshumaan/Development/college/health-predictor/health-predictor-venv/lib/python3.10/site-packages/sklearn/linear_model/_coordinate_descent.py:695: ConvergenceWarning: Objective did not converge. You might want to increase the number of iterations, check the scale of the features or consider increasing regularisation. Duality gap: 1.903e-01, tolerance: 3.495e-02\n",
      "  model = cd_fast.enet_coordinate_descent(\n",
      "/home/anshumaan/Development/college/health-predictor/health-predictor-venv/lib/python3.10/site-packages/sklearn/linear_model/_coordinate_descent.py:695: ConvergenceWarning: Objective did not converge. You might want to increase the number of iterations, check the scale of the features or consider increasing regularisation. Duality gap: 1.054e-01, tolerance: 3.495e-02\n",
      "  model = cd_fast.enet_coordinate_descent(\n",
      "/home/anshumaan/Development/college/health-predictor/health-predictor-venv/lib/python3.10/site-packages/sklearn/linear_model/_coordinate_descent.py:695: ConvergenceWarning: Objective did not converge. You might want to increase the number of iterations, check the scale of the features or consider increasing regularisation. Duality gap: 6.403e-02, tolerance: 3.495e-02\n",
      "  model = cd_fast.enet_coordinate_descent(\n"
     ]
    },
    {
     "data": {
      "image/png": "[encoded data removed]",
      "text/plain": [
       "<Figure size 640x480 with 1 Axes>"
      ]
     },
     "metadata": {},
     "output_type": "display_data"
    },
    {
     "name": "stdout",
     "output_type": "stream",
     "text": [
      "0.003 0.7528591278344018 0.25921168846497794\n",
      "0.029 0.6054305190825049 0.2856900155415311\n"
     ]
    }
   ],
   "source": [
    "alphas = []\n",
    "r2_scores = []\n",
    "cv_r2_scores = []\n",
    "maxr2i = 0\n",
    "maxcvr2i = 0\n",
    "for i in range(1, 100):\n",
    "    alpha = i / 1000\n",
    "    alphas.append(alpha)\n",
    "    R2, cvR2 = lassoRegression(alpha)\n",
    "    r2_scores.append(R2)\n",
    "    cv_r2_scores.append(cvR2)\n",
    "    if(R2 > r2_scores[maxr2i]):\n",
    "        maxr2i = i - 1\n",
    "    if(cvR2 > cv_r2_scores[maxcvr2i]):\n",
    "        maxcvr2i = i - 1\n",
    "\n",
    "plt.plot(alphas, r2_scores, label=\"Regular R2\")\n",
    "plt.plot(alphas, cv_r2_scores, label=\"CV R2\")\n",
    "plt.legend()\n",
    "plt.xlabel(\"Alpha\")\n",
    "plt.ylabel(\"R2 Score\")\n",
    "plt.show()\n",
    "print(alphas[maxr2i], r2_scores[maxr2i], cv_r2_scores[maxr2i])\n",
    "print(alphas[maxcvr2i], r2_scores[maxcvr2i], cv_r2_scores[maxcvr2i])"
   ]
  },
  {
   "cell_type": "markdown",
   "id": "f328bcc5",
   "metadata": {},
   "source": [
    "Both point towards overfitting.\n",
    "Now I will attempt to remove some columns"
   ]
  },
  {
   "cell_type": "code",
   "execution_count": 204,
   "id": "22ffe0d4",
   "metadata": {},
   "outputs": [
    {
     "data": {
      "text/plain": [
       "TotalSteps                  float64\n",
       "TotalDistance               float64\n",
       "TrackerDistance             float64\n",
       "LoggedActivitiesDistance    float64\n",
       "VeryActiveDistance          float64\n",
       "ModeratelyActiveDistance    float64\n",
       "LightActiveDistance         float64\n",
       "SedentaryActiveDistance     float64\n",
       "VeryActiveMinutes           float64\n",
       "FairlyActiveMinutes         float64\n",
       "LightlyActiveMinutes        float64\n",
       "SedentaryMinutes            float64\n",
       "Calories                    float64\n",
       "dtype: object"
      ]
     },
     "execution_count": 204,
     "metadata": {},
     "output_type": "execute_result"
    }
   ],
   "source": [
    "scaled_data.dtypes"
   ]
  },
  {
   "cell_type": "code",
   "execution_count": 205,
   "id": "7d26ffc2",
   "metadata": {},
   "outputs": [
    {
     "data": {
      "text/html": [
       "<div>\n",
       "<style scoped>\n",
       "    .dataframe tbody tr th:only-of-type {\n",
       "        vertical-align: middle;\n",
       "    }\n",
       "\n",
       "    .dataframe tbody tr th {\n",
       "        vertical-align: top;\n",
       "    }\n",
       "\n",
       "    .dataframe thead th {\n",
       "        text-align: right;\n",
       "    }\n",
       "</style>\n",
       "<table border=\"1\" class=\"dataframe\">\n",
       "  <thead>\n",
       "    <tr style=\"text-align: right;\">\n",
       "      <th></th>\n",
       "      <th>TotalSteps</th>\n",
       "      <th>TotalDistance</th>\n",
       "      <th>TrackerDistance</th>\n",
       "      <th>LoggedActivitiesDistance</th>\n",
       "      <th>VeryActiveDistance</th>\n",
       "      <th>ModeratelyActiveDistance</th>\n",
       "      <th>LightActiveDistance</th>\n",
       "      <th>SedentaryActiveDistance</th>\n",
       "      <th>VeryActiveMinutes</th>\n",
       "      <th>FairlyActiveMinutes</th>\n",
       "      <th>LightlyActiveMinutes</th>\n",
       "      <th>SedentaryMinutes</th>\n",
       "      <th>Calories</th>\n",
       "    </tr>\n",
       "  </thead>\n",
       "  <tbody>\n",
       "    <tr>\n",
       "      <th>count</th>\n",
       "      <td>4.570000e+02</td>\n",
       "      <td>4.570000e+02</td>\n",
       "      <td>4.570000e+02</td>\n",
       "      <td>457.000000</td>\n",
       "      <td>4.570000e+02</td>\n",
       "      <td>4.570000e+02</td>\n",
       "      <td>4.570000e+02</td>\n",
       "      <td>4.570000e+02</td>\n",
       "      <td>4.570000e+02</td>\n",
       "      <td>4.570000e+02</td>\n",
       "      <td>4.570000e+02</td>\n",
       "      <td>457.000000</td>\n",
       "      <td>4.570000e+02</td>\n",
       "    </tr>\n",
       "    <tr>\n",
       "      <th>mean</th>\n",
       "      <td>-6.219192e-17</td>\n",
       "      <td>1.554798e-17</td>\n",
       "      <td>-7.773991e-17</td>\n",
       "      <td>0.000000</td>\n",
       "      <td>1.243838e-16</td>\n",
       "      <td>3.886995e-17</td>\n",
       "      <td>-3.109596e-17</td>\n",
       "      <td>4.664394e-17</td>\n",
       "      <td>7.773991e-17</td>\n",
       "      <td>-2.137847e-17</td>\n",
       "      <td>-1.943498e-18</td>\n",
       "      <td>0.000000</td>\n",
       "      <td>2.487677e-16</td>\n",
       "    </tr>\n",
       "    <tr>\n",
       "      <th>std</th>\n",
       "      <td>1.001096e+00</td>\n",
       "      <td>1.001096e+00</td>\n",
       "      <td>1.001096e+00</td>\n",
       "      <td>1.001096</td>\n",
       "      <td>1.001096e+00</td>\n",
       "      <td>1.001096e+00</td>\n",
       "      <td>1.001096e+00</td>\n",
       "      <td>1.001096e+00</td>\n",
       "      <td>1.001096e+00</td>\n",
       "      <td>1.001096e+00</td>\n",
       "      <td>1.001096e+00</td>\n",
       "      <td>1.001096</td>\n",
       "      <td>1.001096e+00</td>\n",
       "    </tr>\n",
       "    <tr>\n",
       "      <th>min</th>\n",
       "      <td>-1.213994e+00</td>\n",
       "      <td>-1.143692e+00</td>\n",
       "      <td>-1.134289e+00</td>\n",
       "      <td>-0.211514</td>\n",
       "      <td>-4.753180e-01</td>\n",
       "      <td>-5.766193e-01</td>\n",
       "      <td>-1.293110e+00</td>\n",
       "      <td>-2.245612e-01</td>\n",
       "      <td>-5.754502e-01</td>\n",
       "      <td>-3.613598e-01</td>\n",
       "      <td>-1.393199e+00</td>\n",
       "      <td>-2.861355</td>\n",
       "      <td>-2.687791e+00</td>\n",
       "    </tr>\n",
       "    <tr>\n",
       "      <th>25%</th>\n",
       "      <td>-8.453392e-01</td>\n",
       "      <td>-7.979007e-01</td>\n",
       "      <td>-8.193347e-01</td>\n",
       "      <td>-0.211514</td>\n",
       "      <td>-4.753180e-01</td>\n",
       "      <td>-5.766193e-01</td>\n",
       "      <td>-9.038613e-01</td>\n",
       "      <td>-2.245612e-01</td>\n",
       "      <td>-5.754502e-01</td>\n",
       "      <td>-3.613598e-01</td>\n",
       "      <td>-8.689165e-01</td>\n",
       "      <td>-0.793941</td>\n",
       "      <td>-5.075584e-01</td>\n",
       "    </tr>\n",
       "    <tr>\n",
       "      <th>50%</th>\n",
       "      <td>-1.039506e-01</td>\n",
       "      <td>-1.406519e-01</td>\n",
       "      <td>-1.279123e-01</td>\n",
       "      <td>-0.211514</td>\n",
       "      <td>-4.753180e-01</td>\n",
       "      <td>-5.525254e-01</td>\n",
       "      <td>1.780842e-02</td>\n",
       "      <td>-2.245612e-01</td>\n",
       "      <td>-5.754502e-01</td>\n",
       "      <td>-3.337118e-01</td>\n",
       "      <td>8.953744e-02</td>\n",
       "      <td>0.183328</td>\n",
       "      <td>-1.564624e-01</td>\n",
       "    </tr>\n",
       "    <tr>\n",
       "      <th>75%</th>\n",
       "      <td>6.771221e-01</td>\n",
       "      <td>6.122412e-01</td>\n",
       "      <td>6.151822e-01</td>\n",
       "      <td>-0.211514</td>\n",
       "      <td>5.196463e-02</td>\n",
       "      <td>2.305265e-01</td>\n",
       "      <td>7.023495e-01</td>\n",
       "      <td>-2.245612e-01</td>\n",
       "      <td>2.899597e-01</td>\n",
       "      <td>8.100800e-02</td>\n",
       "      <td>7.121229e-01</td>\n",
       "      <td>0.860584</td>\n",
       "      <td>5.862409e-01</td>\n",
       "    </tr>\n",
       "    <tr>\n",
       "      <th>max</th>\n",
       "      <td>4.070486e+00</td>\n",
       "      <td>5.607823e+00</td>\n",
       "      <td>5.639682e+00</td>\n",
       "      <td>7.718511</td>\n",
       "      <td>8.347610e+00</td>\n",
       "      <td>7.133430e+00</td>\n",
       "      <td>4.304020e+00</td>\n",
       "      <td>1.157135e+01</td>\n",
       "      <td>6.417062e+00</td>\n",
       "      <td>1.788631e+01</td>\n",
       "      <td>4.504979e+00</td>\n",
       "      <td>1.320999</td>\n",
       "      <td>2.912559e+00</td>\n",
       "    </tr>\n",
       "  </tbody>\n",
       "</table>\n",
       "</div>"
      ],
      "text/plain": [
       "         TotalSteps  TotalDistance  TrackerDistance  LoggedActivitiesDistance  \\\n",
       "count  4.570000e+02   4.570000e+02     4.570000e+02                457.000000   \n",
       "mean  -6.219192e-17   1.554798e-17    -7.773991e-17                  0.000000   \n",
       "std    1.001096e+00   1.001096e+00     1.001096e+00                  1.001096   \n",
       "min   -1.213994e+00  -1.143692e+00    -1.134289e+00                 -0.211514   \n",
       "25%   -8.453392e-01  -7.979007e-01    -8.193347e-01                 -0.211514   \n",
       "50%   -1.039506e-01  -1.406519e-01    -1.279123e-01                 -0.211514   \n",
       "75%    6.771221e-01   6.122412e-01     6.151822e-01                 -0.211514   \n",
       "max    4.070486e+00   5.607823e+00     5.639682e+00                  7.718511   \n",
       "\n",
       "       VeryActiveDistance  ModeratelyActiveDistance  LightActiveDistance  \\\n",
       "count        4.570000e+02              4.570000e+02         4.570000e+02   \n",
       "mean         1.243838e-16              3.886995e-17        -3.109596e-17   \n",
       "std          1.001096e+00              1.001096e+00         1.001096e+00   \n",
       "min         -4.753180e-01             -5.766193e-01        -1.293110e+00   \n",
       "25%         -4.753180e-01             -5.766193e-01        -9.038613e-01   \n",
       "50%         -4.753180e-01             -5.525254e-01         1.780842e-02   \n",
       "75%          5.196463e-02              2.305265e-01         7.023495e-01   \n",
       "max          8.347610e+00              7.133430e+00         4.304020e+00   \n",
       "\n",
       "       SedentaryActiveDistance  VeryActiveMinutes  FairlyActiveMinutes  \\\n",
       "count             4.570000e+02       4.570000e+02         4.570000e+02   \n",
       "mean              4.664394e-17       7.773991e-17        -2.137847e-17   \n",
       "std               1.001096e+00       1.001096e+00         1.001096e+00   \n",
       "min              -2.245612e-01      -5.754502e-01        -3.613598e-01   \n",
       "25%              -2.245612e-01      -5.754502e-01        -3.613598e-01   \n",
       "50%              -2.245612e-01      -5.754502e-01        -3.337118e-01   \n",
       "75%              -2.245612e-01       2.899597e-01         8.100800e-02   \n",
       "max               1.157135e+01       6.417062e+00         1.788631e+01   \n",
       "\n",
       "       LightlyActiveMinutes  SedentaryMinutes      Calories  \n",
       "count          4.570000e+02        457.000000  4.570000e+02  \n",
       "mean          -1.943498e-18          0.000000  2.487677e-16  \n",
       "std            1.001096e+00          1.001096  1.001096e+00  \n",
       "min           -1.393199e+00         -2.861355 -2.687791e+00  \n",
       "25%           -8.689165e-01         -0.793941 -5.075584e-01  \n",
       "50%            8.953744e-02          0.183328 -1.564624e-01  \n",
       "75%            7.121229e-01          0.860584  5.862409e-01  \n",
       "max            4.504979e+00          1.320999  2.912559e+00  "
      ]
     },
     "execution_count": 205,
     "metadata": {},
     "output_type": "execute_result"
    }
   ],
   "source": [
    "scaled_data.describe()"
   ]
  },
  {
   "cell_type": "code",
   "execution_count": 206,
   "id": "4b78f00f",
   "metadata": {},
   "outputs": [
    {
     "name": "stdout",
     "output_type": "stream",
     "text": [
      "TotalSteps                 -2.602913\n",
      "VeryActiveDistance         -1.789687\n",
      "LightActiveDistance        -0.752681\n",
      "ModeratelyActiveDistance   -0.514968\n",
      "LoggedActivitiesDistance   -0.070798\n",
      "SedentaryActiveDistance    -0.003182\n",
      "SedentaryMinutes            0.296252\n",
      "TrackerDistance             0.315131\n",
      "LightlyActiveMinutes        0.336053\n",
      "FairlyActiveMinutes         0.606710\n",
      "VeryActiveMinutes           0.885631\n",
      "TotalDistance               4.220366\n",
      "dtype: float64\n"
     ]
    },
    {
     "data": {
      "image/png": "[encoded data removed]",
      "text/plain": [
       "<Figure size 1000x600 with 1 Axes>"
      ]
     },
     "metadata": {},
     "output_type": "display_data"
    }
   ],
   "source": [
    "coefs = pd.Series(ridge.coef_, index=X_raw_s.columns)\n",
    "coefs.sort_values().plot(kind='barh', figsize=(10, 6))\n",
    "print(coefs.sort_values())"
   ]
  },
  {
   "cell_type": "markdown",
   "id": "44227c36",
   "metadata": {},
   "source": [
    "1. We observe that the coefficients for `SedentaryActiveDistance` is extremely small, hence that can be removed.\n",
    "We can also remove `LoggedActivitiesDistance`"
   ]
  },
  {
   "cell_type": "code",
   "execution_count": null,
   "id": "8340d7a9",
   "metadata": {},
   "outputs": [],
   "source": []
  }
 ],
 "metadata": {
  "kernelspec": {
   "display_name": "health-predictor-venv",
   "language": "python",
   "name": "python3"
  },
  "language_info": {
   "codemirror_mode": {
    "name": "ipython",
    "version": 3
   },
   "file_extension": ".py",
   "mimetype": "text/x-python",
   "name": "python",
   "nbconvert_exporter": "python",
   "pygments_lexer": "ipython3",
   "version": "3.10.12"
  }
 },
 "nbformat": 4,
 "nbformat_minor": 5
}
